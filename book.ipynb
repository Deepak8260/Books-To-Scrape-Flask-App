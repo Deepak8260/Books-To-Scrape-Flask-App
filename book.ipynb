{
 "cells": [
  {
   "cell_type": "code",
   "execution_count": 2,
   "id": "6e0714e7-4051-457b-a89a-92e3cfcd8011",
   "metadata": {},
   "outputs": [],
   "source": [
    "import requests\n",
    "from bs4 import BeautifulSoup as bs"
   ]
  },
  {
   "cell_type": "code",
   "execution_count": 3,
   "id": "01c7cfd3-f899-433d-a6c5-4084bb10819b",
   "metadata": {},
   "outputs": [],
   "source": [
    "x=requests.get('https://books.toscrape.com/catalogue/category/books/young-adult_21/index.html')\n",
    "soup=bs(x.text,'html.parser')"
   ]
  },
  {
   "cell_type": "code",
   "execution_count": 4,
   "id": "b2f92a68-8f53-4634-86d5-af7ce577afb4",
   "metadata": {},
   "outputs": [],
   "source": [
    "books= soup.find_all('li',{'class':'col-xs-6 col-sm-4 col-md-3 col-lg-3'})"
   ]
  },
  {
   "cell_type": "code",
   "execution_count": 5,
   "id": "7697d185-172e-4b4b-8b19-18b7b4540407",
   "metadata": {},
   "outputs": [
    {
     "data": {
      "text/plain": [
       "[<p class=\"price_color\">Â£22.65</p>]"
      ]
     },
     "execution_count": 5,
     "metadata": {},
     "output_type": "execute_result"
    }
   ],
   "source": [
    "books[0].find_all('p',{'class':'price_color'})"
   ]
  },
  {
   "cell_type": "code",
   "execution_count": 6,
   "id": "77c33b71-b874-4fed-8e87-c32777fcbb1c",
   "metadata": {},
   "outputs": [
    {
     "data": {
      "text/plain": [
       "'Â£22.65'"
      ]
     },
     "execution_count": 6,
     "metadata": {},
     "output_type": "execute_result"
    }
   ],
   "source": [
    "books[0].find_all('p',{'class':'price_color'})[0].text"
   ]
  },
  {
   "cell_type": "code",
   "execution_count": 7,
   "id": "4dd6afd9-4cad-4bff-99dc-95cf95b7093d",
   "metadata": {},
   "outputs": [],
   "source": [
    "prices=[]\n",
    "for i in books:\n",
    "    price=i.find_all('p',{'class':'price_color'})[0].text\n",
    "    price=price.replace('Â£','')\n",
    "    prices.append(price)\n",
    "\n",
    "prices=list(map(float,prices))\n",
    "prices=list(map(lambda x:round(x*105.29),prices))"
   ]
  },
  {
   "cell_type": "code",
   "execution_count": 8,
   "id": "dee40dd2-0228-4377-98e2-94328367ff6d",
   "metadata": {},
   "outputs": [
    {
     "data": {
      "text/plain": [
       "[2385,\n",
       " 1838,\n",
       " 4761,\n",
       " 1565,\n",
       " 3033,\n",
       " 2962,\n",
       " 4585,\n",
       " 4031,\n",
       " 5113,\n",
       " 3158,\n",
       " 1512,\n",
       " 4876,\n",
       " 2855,\n",
       " 3722,\n",
       " 4250,\n",
       " 5828,\n",
       " 5352,\n",
       " 6122,\n",
       " 1520,\n",
       " 5059]"
      ]
     },
     "execution_count": 8,
     "metadata": {},
     "output_type": "execute_result"
    }
   ],
   "source": [
    "prices"
   ]
  },
  {
   "cell_type": "code",
   "execution_count": 9,
   "id": "da307474-bf9d-48e0-ab9c-7d45f79b889f",
   "metadata": {},
   "outputs": [
    {
     "data": {
      "text/plain": [
       "'The Requiem Red'"
      ]
     },
     "execution_count": 9,
     "metadata": {},
     "output_type": "execute_result"
    }
   ],
   "source": [
    "books[0].h3.a['title']"
   ]
  },
  {
   "cell_type": "code",
   "execution_count": 10,
   "id": "a096be48-0f01-4ee8-8d9f-12c86a9a3245",
   "metadata": {},
   "outputs": [
    {
     "data": {
      "text/plain": [
       "['The Requiem Red',\n",
       " 'Set Me Free',\n",
       " 'The Natural History of Us (The Fine Art of Pretending #2)',\n",
       " 'Obsidian (Lux #1)',\n",
       " 'Burning',\n",
       " 'A Fierce and Subtle Poison',\n",
       " 'Scarlett Epstein Hates It Here',\n",
       " 'Nightingale, Sing',\n",
       " 'Library of Souls (Miss Peregrineâ\\x80\\x99s Peculiar Children #3)',\n",
       " 'Frostbite (Vampire Academy #2)',\n",
       " 'Wild Swans',\n",
       " 'Until Friday Night (The Field Party #1)',\n",
       " 'This Is Where It Ends',\n",
       " 'The Darkest Lie',\n",
       " 'My Kind of Crazy',\n",
       " \"Don't Get Caught\",\n",
       " 'Catching Jordan (Hundred Oaks)',\n",
       " 'Aristotle and Dante Discover the Secrets of the Universe (Aristotle and Dante Discover the Secrets of the Universe #1)',\n",
       " 'The Epidemic (The Program 0.6)',\n",
       " 'Stars Above (The Lunar Chronicles #4.5)']"
      ]
     },
     "execution_count": 10,
     "metadata": {},
     "output_type": "execute_result"
    }
   ],
   "source": [
    "titles=[]\n",
    "\n",
    "for i in books:\n",
    "    name=i.h3.a['title']\n",
    "    titles.append(name)\n",
    "\n",
    "titles"
   ]
  },
  {
   "cell_type": "code",
   "execution_count": 11,
   "id": "7acd560d-e67d-4e45-b0e6-1051dfc35ad6",
   "metadata": {},
   "outputs": [
    {
     "data": {
      "text/plain": [
       "['star-rating', 'One']"
      ]
     },
     "execution_count": 11,
     "metadata": {},
     "output_type": "execute_result"
    }
   ],
   "source": [
    "books[0].article.p['class']"
   ]
  },
  {
   "cell_type": "code",
   "execution_count": 12,
   "id": "020b3cac-dde8-4b36-84b1-c6ff87005ae1",
   "metadata": {},
   "outputs": [
    {
     "data": {
      "text/plain": [
       "[1, 5, 3, 2, 3, 4, 5, 1, 5, 5, 2, 2, 2, 5, 1, 1, 3, 4, 5, 2]"
      ]
     },
     "execution_count": 12,
     "metadata": {},
     "output_type": "execute_result"
    }
   ],
   "source": [
    "ratings = []\n",
    "# Mapping of number words to integers\n",
    "num_map = {\n",
    "    'One': 1,\n",
    "    'Two': 2,\n",
    "    'Three': 3,\n",
    "    'Four': 4,\n",
    "    'Five': 5,\n",
    "    'Six': 6,\n",
    "    'Seven': 7,\n",
    "    'Eight': 8,\n",
    "    'Nine': 9,\n",
    "    'Ten': 10\n",
    "}\n",
    "\n",
    "for i in books:\n",
    "    r = i.article.p['class']\n",
    "    num_rating = num_map.get(r[1])\n",
    "    ratings.append(num_rating)\n",
    "\n",
    "ratings\n"
   ]
  },
  {
   "cell_type": "code",
   "execution_count": null,
   "id": "ac3a8d35",
   "metadata": {},
   "outputs": [],
   "source": [
    "https://books.toscrape.com/media/cache/81/c4/81c4a973364e17d01f217e1188253d5e.jpg"
   ]
  },
  {
   "cell_type": "code",
   "execution_count": 13,
   "id": "4263fe53",
   "metadata": {},
   "outputs": [
    {
     "data": {
      "text/plain": [
       "'media/cache/68/33/68339b4c9bc034267e1da611ab3b34f8.jpg'"
      ]
     },
     "execution_count": 13,
     "metadata": {},
     "output_type": "execute_result"
    }
   ],
   "source": [
    "books[0].img['src'].replace('../','')"
   ]
  },
  {
   "cell_type": "code",
   "execution_count": null,
   "id": "3919f3a5",
   "metadata": {},
   "outputs": [],
   "source": [
    "https://books.toscrape.com/media/cache/81/c4/81c4a973364e17d01f217e1188253d5e.jpg"
   ]
  },
  {
   "cell_type": "code",
   "execution_count": 14,
   "id": "73ae14e5",
   "metadata": {},
   "outputs": [
    {
     "data": {
      "text/plain": [
       "['https://books.toscrape.com/media/cache/68/33/68339b4c9bc034267e1da611ab3b34f8.jpg',\n",
       " 'https://books.toscrape.com/media/cache/5b/88/5b88c52633f53cacf162c15f4f823153.jpg',\n",
       " 'https://books.toscrape.com/media/cache/5d/7f/5d7f496cdf5e5962a73ecdcc1505c1d5.jpg',\n",
       " 'https://books.toscrape.com/media/cache/fc/72/fc72f158554b4b4164701e1dfa1153c7.jpg',\n",
       " 'https://books.toscrape.com/media/cache/26/95/269507c7bb35d2cec9b61a03d1c28e67.jpg',\n",
       " 'https://books.toscrape.com/media/cache/12/f1/12f1963957f27fa83d51f76b183ef490.jpg',\n",
       " 'https://books.toscrape.com/media/cache/0f/d3/0fd306891f8fd3196653022fd67d6c87.jpg',\n",
       " 'https://books.toscrape.com/media/cache/18/08/18086e581ad354aa65f945c2b5c51350.jpg',\n",
       " 'https://books.toscrape.com/media/cache/f8/54/f85417465a73e33604624205ba8306cc.jpg',\n",
       " 'https://books.toscrape.com/media/cache/71/76/7176317f1915fa0658bb2fe400441207.jpg',\n",
       " 'https://books.toscrape.com/media/cache/bb/72/bb723ad463531c602ad8bcb244253bf3.jpg',\n",
       " 'https://books.toscrape.com/media/cache/19/cf/19cf50aea5bf0e8f4bc016f3745b3dfe.jpg',\n",
       " 'https://books.toscrape.com/media/cache/18/0b/180bfe1902cb3c0eb77d7c712efa2a96.jpg',\n",
       " 'https://books.toscrape.com/media/cache/1d/3c/1d3c05b772ab846c111970232360d2c5.jpg',\n",
       " 'https://books.toscrape.com/media/cache/46/6e/466e9636819aad1126ac6cefb5313ba8.jpg',\n",
       " 'https://books.toscrape.com/media/cache/b2/df/b2df2ea409c5cf28538b67aff424b11f.jpg',\n",
       " 'https://books.toscrape.com/media/cache/ad/ac/adac97366586d261feab30bf5220756e.jpg',\n",
       " 'https://books.toscrape.com/media/cache/61/1a/611aba0ef5b859ba1977ef30677b0194.jpg',\n",
       " 'https://books.toscrape.com/media/cache/87/cd/87cd652c35e2a78535c83becae33cff2.jpg',\n",
       " 'https://books.toscrape.com/media/cache/fd/5b/fd5b14399052ab552e240ed18ab03c6d.jpg']"
      ]
     },
     "execution_count": 14,
     "metadata": {},
     "output_type": "execute_result"
    }
   ],
   "source": [
    "imgs=[]\n",
    "for i in books:\n",
    "    l=i.img['src'].replace('../','')\n",
    "    img='https://books.toscrape.com/'+l\n",
    "    imgs.append(img)\n",
    "\n",
    "imgs"
   ]
  },
  {
   "cell_type": "code",
   "execution_count": null,
   "id": "9ff2a8ef",
   "metadata": {},
   "outputs": [],
   "source": []
  },
  {
   "cell_type": "code",
   "execution_count": null,
   "id": "acc46152-c282-4520-a6ba-20663075891e",
   "metadata": {},
   "outputs": [],
   "source": []
  },
  {
   "cell_type": "code",
   "execution_count": 15,
   "id": "e9544013-3ba4-43d9-b564-86b23b7db527",
   "metadata": {},
   "outputs": [
    {
     "name": "stdout",
     "output_type": "stream",
     "text": [
      "the-requiem-red_995/index.html\n",
      "set-me-free_988/index.html\n",
      "the-natural-history-of-us-the-fine-art-of-pretending-2_941/index.html\n",
      "obsidian-lux-1_911/index.html\n",
      "burning_884/index.html\n",
      "a-fierce-and-subtle-poison_875/index.html\n",
      "scarlett-epstein-hates-it-here_828/index.html\n",
      "nightingale-sing_823/index.html\n",
      "library-of-souls-miss-peregrines-peculiar-children-3_816/index.html\n",
      "frostbite-vampire-academy-2_810/index.html\n",
      "wild-swans_782/index.html\n",
      "until-friday-night-the-field-party-1_775/index.html\n",
      "this-is-where-it-ends_771/index.html\n",
      "the-darkest-lie_747/index.html\n",
      "my-kind-of-crazy_718/index.html\n",
      "dont-get-caught_687/index.html\n",
      "catching-jordan-hundred-oaks_673/index.html\n",
      "aristotle-and-dante-discover-the-secrets-of-the-universe-aristotle-and-dante-discover-the-secrets-of-the-universe-1_663/index.html\n",
      "the-epidemic-the-program-06_636/index.html\n",
      "stars-above-the-lunar-chronicles-45_632/index.html\n"
     ]
    }
   ],
   "source": [
    "for i in books:\n",
    "    link=i.a['href']\n",
    "    link=link.replace('../','')\n",
    "    print(link)"
   ]
  },
  {
   "cell_type": "code",
   "execution_count": 16,
   "id": "e234de2b-47b9-49a4-8bce-e9a6edcb2755",
   "metadata": {},
   "outputs": [],
   "source": [
    "links=[]\n",
    "\n",
    "for i in books:\n",
    "    link=i.a['href']\n",
    "    link=link.replace('../','')\n",
    "    links.append(link)"
   ]
  },
  {
   "cell_type": "code",
   "execution_count": 163,
   "id": "3a8b93e7-b205-4a81-8d26-288805230443",
   "metadata": {},
   "outputs": [
    {
     "data": {
      "text/plain": [
       "'https://books.toscrape.com/catalogue/rip-it-up-and-start-again_986/index.html'"
      ]
     },
     "execution_count": 163,
     "metadata": {},
     "output_type": "execute_result"
    }
   ],
   "source": [
    "'https://books.toscrape.com/catalogue/'+links[0]"
   ]
  },
  {
   "cell_type": "code",
   "execution_count": 164,
   "id": "29686f28-8fa3-49a3-b994-b32c452ef8fd",
   "metadata": {},
   "outputs": [
    {
     "data": {
      "text/plain": [
       "['https://books.toscrape.com/catalogue/rip-it-up-and-start-again_986/index.html',\n",
       " 'https://books.toscrape.com/catalogue/our-band-could-be-your-life-scenes-from-the-american-indie-underground-1981-1991_985/index.html',\n",
       " 'https://books.toscrape.com/catalogue/how-music-works_979/index.html',\n",
       " 'https://books.toscrape.com/catalogue/love-is-a-mix-tape-music-1_711/index.html',\n",
       " 'https://books.toscrape.com/catalogue/please-kill-me-the-uncensored-oral-history-of-punk_537/index.html',\n",
       " 'https://books.toscrape.com/catalogue/kill-em-and-leave-searching-for-james-brown-and-the-american-soul_528/index.html',\n",
       " 'https://books.toscrape.com/catalogue/chronicles-vol-1_462/index.html',\n",
       " 'https://books.toscrape.com/catalogue/this-is-your-brain-on-music-the-science-of-a-human-obsession_414/index.html',\n",
       " 'https://books.toscrape.com/catalogue/orchestra-of-exiles-the-story-of-bronislaw-huberman-the-israel-philharmonic-and-the-one-thousand-jews-he-saved-from-nazi-horrors_337/index.html',\n",
       " 'https://books.toscrape.com/catalogue/no-one-here-gets-out-alive_336/index.html',\n",
       " 'https://books.toscrape.com/catalogue/life_104/index.html',\n",
       " 'https://books.toscrape.com/catalogue/old-records-never-die-one-mans-quest-for-his-vinyl-and-his-past_39/index.html',\n",
       " 'https://books.toscrape.com/catalogue/forever-rockers-the-rocker-12_19/index.html']"
      ]
     },
     "execution_count": 164,
     "metadata": {},
     "output_type": "execute_result"
    }
   ],
   "source": [
    "new_links=[]\n",
    "\n",
    "for i in links:\n",
    "    new_link='https://books.toscrape.com/catalogue/'+i\n",
    "    new_links.append(new_link)    \n",
    "new_links"
   ]
  },
  {
   "cell_type": "code",
   "execution_count": 83,
   "id": "c3aa6c4a-64b2-422d-83e0-c82c39f45792",
   "metadata": {},
   "outputs": [
    {
     "name": "stdout",
     "output_type": "stream",
     "text": [
      "<Response [200]>\n",
      "<Response [200]>\n",
      "<Response [200]>\n",
      "<Response [200]>\n",
      "<Response [200]>\n",
      "<Response [200]>\n",
      "<Response [200]>\n",
      "<Response [200]>\n",
      "<Response [200]>\n",
      "<Response [200]>\n",
      "<Response [200]>\n",
      "<Response [200]>\n",
      "<Response [200]>\n"
     ]
    }
   ],
   "source": [
    "# Testing the connection\n",
    "for i in new_links:\n",
    "    y=requests.get(i)\n",
    "    print(y)"
   ]
  }
 ],
 "metadata": {
  "kernelspec": {
   "display_name": "bvenv",
   "language": "python",
   "name": "python3"
  },
  "language_info": {
   "codemirror_mode": {
    "name": "ipython",
    "version": 3
   },
   "file_extension": ".py",
   "mimetype": "text/x-python",
   "name": "python",
   "nbconvert_exporter": "python",
   "pygments_lexer": "ipython3",
   "version": "3.12.8"
  }
 },
 "nbformat": 4,
 "nbformat_minor": 5
}

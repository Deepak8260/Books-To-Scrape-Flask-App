{
 "cells": [
  {
   "cell_type": "code",
   "execution_count": 1,
   "id": "6e0714e7-4051-457b-a89a-92e3cfcd8011",
   "metadata": {},
   "outputs": [],
   "source": [
    "import requests\n",
    "from bs4 import BeautifulSoup as bs"
   ]
  },
  {
   "cell_type": "code",
   "execution_count": 2,
   "id": "01c7cfd3-f899-433d-a6c5-4084bb10819b",
   "metadata": {},
   "outputs": [],
   "source": [
    "x=requests.get('https://books.toscrape.com/catalogue/category/books/music_14/index.html')\n",
    "soup=bs(x.text,'html.parser')"
   ]
  },
  {
   "cell_type": "code",
   "execution_count": 3,
   "id": "b2f92a68-8f53-4634-86d5-af7ce577afb4",
   "metadata": {},
   "outputs": [],
   "source": [
    "books= soup.find_all('li',{'class':'col-xs-6 col-sm-4 col-md-3 col-lg-3'})"
   ]
  },
  {
   "cell_type": "code",
   "execution_count": 4,
   "id": "7697d185-172e-4b4b-8b19-18b7b4540407",
   "metadata": {},
   "outputs": [
    {
     "data": {
      "text/plain": [
       "[<p class=\"price_color\">Â£35.02</p>]"
      ]
     },
     "execution_count": 4,
     "metadata": {},
     "output_type": "execute_result"
    }
   ],
   "source": [
    "books[0].find_all('p',{'class':'price_color'})"
   ]
  },
  {
   "cell_type": "code",
   "execution_count": 5,
   "id": "77c33b71-b874-4fed-8e87-c32777fcbb1c",
   "metadata": {},
   "outputs": [
    {
     "data": {
      "text/plain": [
       "'Â£35.02'"
      ]
     },
     "execution_count": 5,
     "metadata": {},
     "output_type": "execute_result"
    }
   ],
   "source": [
    "books[0].find_all('p',{'class':'price_color'})[0].text"
   ]
  },
  {
   "cell_type": "code",
   "execution_count": 6,
   "id": "4dd6afd9-4cad-4bff-99dc-95cf95b7093d",
   "metadata": {},
   "outputs": [],
   "source": [
    "prices=[]\n",
    "for i in books:\n",
    "    price=i.find_all('p',{'class':'price_color'})[0].text\n",
    "    price=price.replace('Â£','')\n",
    "    prices.append(price)\n",
    "\n",
    "prices=list(map(float,prices))\n",
    "prices=list(map(lambda x:round(x*105.29),prices))"
   ]
  },
  {
   "cell_type": "code",
   "execution_count": 7,
   "id": "dee40dd2-0228-4377-98e2-94328367ff6d",
   "metadata": {},
   "outputs": [
    {
     "data": {
      "text/plain": [
       "[3687, 6028, 3929, 1898, 3284, 4743, 5538, 4043, 1301, 2108, 3325, 5860, 3032]"
      ]
     },
     "execution_count": 7,
     "metadata": {},
     "output_type": "execute_result"
    }
   ],
   "source": [
    "prices"
   ]
  },
  {
   "cell_type": "code",
   "execution_count": 8,
   "id": "da307474-bf9d-48e0-ab9c-7d45f79b889f",
   "metadata": {},
   "outputs": [
    {
     "data": {
      "text/plain": [
       "'Rip it Up and Start Again'"
      ]
     },
     "execution_count": 8,
     "metadata": {},
     "output_type": "execute_result"
    }
   ],
   "source": [
    "books[0].h3.a['title']"
   ]
  },
  {
   "cell_type": "code",
   "execution_count": 9,
   "id": "a096be48-0f01-4ee8-8d9f-12c86a9a3245",
   "metadata": {},
   "outputs": [
    {
     "data": {
      "text/plain": [
       "['Rip it Up and Start Again',\n",
       " 'Our Band Could Be Your Life: Scenes from the American Indie Underground, 1981-1991',\n",
       " 'How Music Works',\n",
       " 'Love Is a Mix Tape (Music #1)',\n",
       " 'Please Kill Me: The Uncensored Oral History of Punk',\n",
       " \"Kill 'Em and Leave: Searching for James Brown and the American Soul\",\n",
       " 'Chronicles, Vol. 1',\n",
       " 'This Is Your Brain on Music: The Science of a Human Obsession',\n",
       " 'Orchestra of Exiles: The Story of Bronislaw Huberman, the Israel Philharmonic, and the One Thousand Jews He Saved from Nazi Horrors',\n",
       " 'No One Here Gets Out Alive',\n",
       " 'Life',\n",
       " \"Old Records Never Die: One Man's Quest for His Vinyl and His Past\",\n",
       " 'Forever Rockers (The Rocker #12)']"
      ]
     },
     "execution_count": 9,
     "metadata": {},
     "output_type": "execute_result"
    }
   ],
   "source": [
    "titles=[]\n",
    "\n",
    "for i in books:\n",
    "    name=i.h3.a['title']\n",
    "    titles.append(name)\n",
    "\n",
    "titles"
   ]
  },
  {
   "cell_type": "code",
   "execution_count": 10,
   "id": "7acd560d-e67d-4e45-b0e6-1051dfc35ad6",
   "metadata": {},
   "outputs": [
    {
     "data": {
      "text/plain": [
       "['star-rating', 'Five']"
      ]
     },
     "execution_count": 10,
     "metadata": {},
     "output_type": "execute_result"
    }
   ],
   "source": [
    "books[0].article.p['class']"
   ]
  },
  {
   "cell_type": "code",
   "execution_count": 11,
   "id": "020b3cac-dde8-4b36-84b1-c6ff87005ae1",
   "metadata": {},
   "outputs": [
    {
     "data": {
      "text/plain": [
       "[5, 3, 2, 1, 4, 5, 2, 1, 3, 5, 5, 2, 3]"
      ]
     },
     "execution_count": 11,
     "metadata": {},
     "output_type": "execute_result"
    }
   ],
   "source": [
    "ratings = []\n",
    "# Mapping of number words to integers\n",
    "num_map = {\n",
    "    'One': 1,\n",
    "    'Two': 2,\n",
    "    'Three': 3,\n",
    "    'Four': 4,\n",
    "    'Five': 5,\n",
    "    'Six': 6,\n",
    "    'Seven': 7,\n",
    "    'Eight': 8,\n",
    "    'Nine': 9,\n",
    "    'Ten': 10\n",
    "}\n",
    "\n",
    "for i in books:\n",
    "    r = i.article.p['class']\n",
    "    num_rating = num_map.get(r[1])\n",
    "    ratings.append(num_rating)\n",
    "\n",
    "ratings\n"
   ]
  },
  {
   "cell_type": "code",
   "execution_count": null,
   "id": "ac3a8d35",
   "metadata": {},
   "outputs": [],
   "source": [
    "https://books.toscrape.com/media/cache/81/c4/81c4a973364e17d01f217e1188253d5e.jpg"
   ]
  },
  {
   "cell_type": "code",
   "execution_count": 16,
   "id": "4263fe53",
   "metadata": {},
   "outputs": [
    {
     "data": {
      "text/plain": [
       "'media/cache/81/c4/81c4a973364e17d01f217e1188253d5e.jpg'"
      ]
     },
     "execution_count": 16,
     "metadata": {},
     "output_type": "execute_result"
    }
   ],
   "source": [
    "books[0].img['src'].replace('../','')"
   ]
  },
  {
   "cell_type": "code",
   "execution_count": null,
   "id": "3919f3a5",
   "metadata": {},
   "outputs": [],
   "source": [
    "https://books.toscrape.com/media/cache/81/c4/81c4a973364e17d01f217e1188253d5e.jpg"
   ]
  },
  {
   "cell_type": "code",
   "execution_count": 17,
   "id": "73ae14e5",
   "metadata": {},
   "outputs": [
    {
     "data": {
      "text/plain": [
       "['https://books.toscrape.com/media/cache/81/c4/81c4a973364e17d01f217e1188253d5e.jpg',\n",
       " 'https://books.toscrape.com/media/cache/54/60/54607fe8945897cdcced0044103b10b6.jpg',\n",
       " 'https://books.toscrape.com/media/cache/5c/c8/5cc8e107246cb478960d4f0aba1e1c8e.jpg',\n",
       " 'https://books.toscrape.com/media/cache/a2/6d/a26d8449abb3381e09126eda5f4e8151.jpg',\n",
       " 'https://books.toscrape.com/media/cache/06/f1/06f185c0be2ad6e2fe059464c03f1b47.jpg',\n",
       " 'https://books.toscrape.com/media/cache/85/42/8542841f5644a6daf433504f1e106e97.jpg',\n",
       " 'https://books.toscrape.com/media/cache/11/fc/11fc94453c4dc0d68543971d7843afb0.jpg',\n",
       " 'https://books.toscrape.com/media/cache/35/a4/35a4a7c6c76c4e82186753078e441654.jpg',\n",
       " 'https://books.toscrape.com/media/cache/15/de/15de75548ee9a4c6be1420ee309c03e0.jpg',\n",
       " 'https://books.toscrape.com/media/cache/7a/7e/7a7eb52e7075a5305522948375c1316e.jpg',\n",
       " 'https://books.toscrape.com/media/cache/99/97/9997eda658c2fe50e724171f9c2a2b0b.jpg',\n",
       " 'https://books.toscrape.com/media/cache/7e/94/7e947f3dd04f178175b85123829467a9.jpg',\n",
       " 'https://books.toscrape.com/media/cache/7f/b0/7fb03a053c270000667a50dd8d594843.jpg']"
      ]
     },
     "execution_count": 17,
     "metadata": {},
     "output_type": "execute_result"
    }
   ],
   "source": [
    "imgs=[]\n",
    "for i in books:\n",
    "    l=i.img['src'].replace('../','')\n",
    "    img='https://books.toscrape.com/'+l\n",
    "    imgs.append(img)\n",
    "\n",
    "imgs"
   ]
  },
  {
   "cell_type": "code",
   "execution_count": null,
   "id": "9ff2a8ef",
   "metadata": {},
   "outputs": [],
   "source": []
  },
  {
   "cell_type": "code",
   "execution_count": null,
   "id": "acc46152-c282-4520-a6ba-20663075891e",
   "metadata": {},
   "outputs": [],
   "source": []
  },
  {
   "cell_type": "code",
   "execution_count": 12,
   "id": "e9544013-3ba4-43d9-b564-86b23b7db527",
   "metadata": {},
   "outputs": [
    {
     "name": "stdout",
     "output_type": "stream",
     "text": [
      "rip-it-up-and-start-again_986/index.html\n",
      "our-band-could-be-your-life-scenes-from-the-american-indie-underground-1981-1991_985/index.html\n",
      "how-music-works_979/index.html\n",
      "love-is-a-mix-tape-music-1_711/index.html\n",
      "please-kill-me-the-uncensored-oral-history-of-punk_537/index.html\n",
      "kill-em-and-leave-searching-for-james-brown-and-the-american-soul_528/index.html\n",
      "chronicles-vol-1_462/index.html\n",
      "this-is-your-brain-on-music-the-science-of-a-human-obsession_414/index.html\n",
      "orchestra-of-exiles-the-story-of-bronislaw-huberman-the-israel-philharmonic-and-the-one-thousand-jews-he-saved-from-nazi-horrors_337/index.html\n",
      "no-one-here-gets-out-alive_336/index.html\n",
      "life_104/index.html\n",
      "old-records-never-die-one-mans-quest-for-his-vinyl-and-his-past_39/index.html\n",
      "forever-rockers-the-rocker-12_19/index.html\n"
     ]
    }
   ],
   "source": [
    "for i in books:\n",
    "    link=i.a['href']\n",
    "    link=link.replace('../','')\n",
    "    print(link)"
   ]
  },
  {
   "cell_type": "code",
   "execution_count": 105,
   "id": "e234de2b-47b9-49a4-8bce-e9a6edcb2755",
   "metadata": {},
   "outputs": [],
   "source": [
    "links=[]\n",
    "\n",
    "for i in books:\n",
    "    link=i.a['href']\n",
    "    link=link.replace('../','')\n",
    "    links.append(link)"
   ]
  },
  {
   "cell_type": "code",
   "execution_count": 163,
   "id": "3a8b93e7-b205-4a81-8d26-288805230443",
   "metadata": {},
   "outputs": [
    {
     "data": {
      "text/plain": [
       "'https://books.toscrape.com/catalogue/rip-it-up-and-start-again_986/index.html'"
      ]
     },
     "execution_count": 163,
     "metadata": {},
     "output_type": "execute_result"
    }
   ],
   "source": [
    "'https://books.toscrape.com/catalogue/'+links[0]"
   ]
  },
  {
   "cell_type": "code",
   "execution_count": 164,
   "id": "29686f28-8fa3-49a3-b994-b32c452ef8fd",
   "metadata": {},
   "outputs": [
    {
     "data": {
      "text/plain": [
       "['https://books.toscrape.com/catalogue/rip-it-up-and-start-again_986/index.html',\n",
       " 'https://books.toscrape.com/catalogue/our-band-could-be-your-life-scenes-from-the-american-indie-underground-1981-1991_985/index.html',\n",
       " 'https://books.toscrape.com/catalogue/how-music-works_979/index.html',\n",
       " 'https://books.toscrape.com/catalogue/love-is-a-mix-tape-music-1_711/index.html',\n",
       " 'https://books.toscrape.com/catalogue/please-kill-me-the-uncensored-oral-history-of-punk_537/index.html',\n",
       " 'https://books.toscrape.com/catalogue/kill-em-and-leave-searching-for-james-brown-and-the-american-soul_528/index.html',\n",
       " 'https://books.toscrape.com/catalogue/chronicles-vol-1_462/index.html',\n",
       " 'https://books.toscrape.com/catalogue/this-is-your-brain-on-music-the-science-of-a-human-obsession_414/index.html',\n",
       " 'https://books.toscrape.com/catalogue/orchestra-of-exiles-the-story-of-bronislaw-huberman-the-israel-philharmonic-and-the-one-thousand-jews-he-saved-from-nazi-horrors_337/index.html',\n",
       " 'https://books.toscrape.com/catalogue/no-one-here-gets-out-alive_336/index.html',\n",
       " 'https://books.toscrape.com/catalogue/life_104/index.html',\n",
       " 'https://books.toscrape.com/catalogue/old-records-never-die-one-mans-quest-for-his-vinyl-and-his-past_39/index.html',\n",
       " 'https://books.toscrape.com/catalogue/forever-rockers-the-rocker-12_19/index.html']"
      ]
     },
     "execution_count": 164,
     "metadata": {},
     "output_type": "execute_result"
    }
   ],
   "source": [
    "new_links=[]\n",
    "\n",
    "for i in links:\n",
    "    new_link='https://books.toscrape.com/catalogue/'+i\n",
    "    new_links.append(new_link)    \n",
    "new_links"
   ]
  },
  {
   "cell_type": "code",
   "execution_count": 83,
   "id": "c3aa6c4a-64b2-422d-83e0-c82c39f45792",
   "metadata": {},
   "outputs": [
    {
     "name": "stdout",
     "output_type": "stream",
     "text": [
      "<Response [200]>\n",
      "<Response [200]>\n",
      "<Response [200]>\n",
      "<Response [200]>\n",
      "<Response [200]>\n",
      "<Response [200]>\n",
      "<Response [200]>\n",
      "<Response [200]>\n",
      "<Response [200]>\n",
      "<Response [200]>\n",
      "<Response [200]>\n",
      "<Response [200]>\n",
      "<Response [200]>\n"
     ]
    }
   ],
   "source": [
    "# Testing the connection\n",
    "for i in new_links:\n",
    "    y=requests.get(i)\n",
    "    print(y)"
   ]
  }
 ],
 "metadata": {
  "kernelspec": {
   "display_name": "bvenv",
   "language": "python",
   "name": "python3"
  },
  "language_info": {
   "codemirror_mode": {
    "name": "ipython",
    "version": 3
   },
   "file_extension": ".py",
   "mimetype": "text/x-python",
   "name": "python",
   "nbconvert_exporter": "python",
   "pygments_lexer": "ipython3",
   "version": "3.12.8"
  }
 },
 "nbformat": 4,
 "nbformat_minor": 5
}
